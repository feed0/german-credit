{
 "cells": [
  {
   "cell_type": "markdown",
   "metadata": {},
   "source": [
    "# Ordinal Featues\n",
    "> Some featurs are order sensitve"
   ]
  },
  {
   "cell_type": "code",
   "execution_count": 2,
   "metadata": {},
   "outputs": [],
   "source": [
    "# Libraries\n",
    "\n",
    "# Data ---------------------------\n",
    "from ucimlrepo import fetch_ucirepo\n",
    "import pandas as pd\n",
    "\n",
    "# Visualization ------------------\n",
    "import matplotlib.pyplot as plt\n",
    "import seaborn as sns\n",
    "\n",
    "# Utils --------------------------\n",
    "import sys  \n",
    "sys.path.insert(1, '../utils')\n",
    "import preprocess as pp"
   ]
  },
  {
   "cell_type": "code",
   "execution_count": 3,
   "metadata": {},
   "outputs": [
    {
     "name": "stdout",
     "output_type": "stream",
     "text": [
      "<class 'pandas.core.frame.DataFrame'>\n",
      "RangeIndex: 1000 entries, 0 to 999\n",
      "Data columns (total 21 columns):\n",
      " #   Column       Non-Null Count  Dtype   \n",
      "---  ------       --------------  -----   \n",
      " 0   Attribute1   1000 non-null   category\n",
      " 1   Attribute2   1000 non-null   int64   \n",
      " 2   Attribute3   1000 non-null   category\n",
      " 3   Attribute4   1000 non-null   category\n",
      " 4   Attribute5   1000 non-null   int64   \n",
      " 5   Attribute6   1000 non-null   category\n",
      " 6   Attribute7   1000 non-null   category\n",
      " 7   Attribute8   1000 non-null   int64   \n",
      " 8   Attribute9   1000 non-null   category\n",
      " 9   Attribute10  1000 non-null   category\n",
      " 10  Attribute11  1000 non-null   int64   \n",
      " 11  Attribute12  1000 non-null   category\n",
      " 12  Attribute13  1000 non-null   int64   \n",
      " 13  Attribute14  1000 non-null   category\n",
      " 14  Attribute15  1000 non-null   category\n",
      " 15  Attribute16  1000 non-null   int64   \n",
      " 16  Attribute17  1000 non-null   category\n",
      " 17  Attribute18  1000 non-null   int64   \n",
      " 18  Attribute19  1000 non-null   bool    \n",
      " 19  Attribute20  1000 non-null   bool    \n",
      " 20  Target       1000 non-null   bool    \n",
      "dtypes: bool(3), category(11), int64(7)\n",
      "memory usage: 70.7 KB\n"
     ]
    }
   ],
   "source": [
    "# Fetch and preprocess data\n",
    "\n",
    "# Fetch\n",
    "df = fetch_ucirepo(id=144).data.original\n",
    "\n",
    "# Dtype preprocessing\n",
    "df = pp.preprocess_dtypes(df)\n",
    "\n",
    "df.info()"
   ]
  },
  {
   "cell_type": "markdown",
   "metadata": {},
   "source": [
    "## 1 1:Q Status of existing checking account\n",
    "```\n",
    "BEFORE\n",
    "1:Q - Status of existing checking account\n",
    "- A11 :      ... <    0 DM\n",
    "- A12 : 0 <= ... <  200 DM\n",
    "- A13 :      ... >= 200 DM / salary assignments for at least 1 year\n",
    "- A14 : no checking account\n",
    "```\n",
    "\n",
    "```\n",
    "AFTER\n",
    "1:O - Status of existing checking account\n",
    "- A10 : no checking account\n",
    "- A11 :      ... <    0 DM\n",
    "- A12 : 0 <= ... <  200 DM\n",
    "- A13 :      ... >= 200 DM / salary assignments for at least 1 year\n",
    "```"
   ]
  },
  {
   "cell_type": "code",
   "execution_count": 4,
   "metadata": {},
   "outputs": [
    {
     "data": {
      "image/png": "[encoded data removed]",
      "text/plain": [
       "<Figure size 640x480 with 1 Axes>"
      ]
     },
     "metadata": {},
     "output_type": "display_data"
    }
   ],
   "source": [
    "feat = 'Attribute1'\n",
    "\n",
    "ax = sns.countplot(\n",
    "    data=df,\n",
    "    x=feat,\n",
    "    order=sorted(df[feat].unique()),\n",
    "    stat='percent',\n",
    ")\n",
    "\n",
    "# Annotate each bar with the count value\n",
    "for p in ax.patches:\n",
    "    ax.annotate(f'{p.get_height():.1f}%', (p.get_x() + p.get_width() / 2., p.get_height()), \n",
    "                ha='center', va='baseline', fontsize=12, color='black', xytext=(0, 5), \n",
    "                textcoords='offset points')\n",
    "    \n",
    "plt.show()\n"
   ]
  }
 ],
 "metadata": {
  "kernelspec": {
   "display_name": "base",
   "language": "python",
   "name": "python3"
  },
  "language_info": {
   "codemirror_mode": {
    "name": "ipython",
    "version": 3
   },
   "file_extension": ".py",
   "mimetype": "text/x-python",
   "name": "python",
   "nbconvert_exporter": "python",
   "pygments_lexer": "ipython3",
   "version": "3.11.5"
  }
 },
 "nbformat": 4,
 "nbformat_minor": 2
}
